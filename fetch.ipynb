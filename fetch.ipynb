{
 "metadata": {
  "name": "",
  "signature": "sha256:fecadcf08900dcbfc7c652adcbdb8b5359c53d010562088d849d60860da51d1b"
 },
 "nbformat": 3,
 "nbformat_minor": 0,
 "worksheets": [
  {
   "cells": [
    {
     "cell_type": "code",
     "collapsed": false,
     "input": [
      "from urllib.request import urlopen\n",
      "import os\n",
      "def fetch(id):\n",
      "    \"\"\"id\"\"\"\n",
      "    s=urlopen(\"http://cslab.nju.edu.cn/metis/get_replay.php?BID=%d\"%id)\n",
      "    sd=str(s.read().decode(\"utf-8\")).split(\"\\\\n\")[2:-1]\n",
      "    d=[[int(x) for x in u[5:].split(\" \")] for u in sd if u[0:4]==\"MOVE\"]\n",
      "    return d\n",
      "def dump(d):\n",
      "    return \"\\n\".join([\" \".join([str(x) for x in u]) for u in d])\n",
      "def save(id):\n",
      "    s=dump(fetch(id))\n",
      "    if s and s!=\"\":\n",
      "        print(\"saving...%05d.log\"%id)\n",
      "        f=open(os.path.join(\"battle\",\"%05d.log\"%id),\"w\")\n",
      "        print(s,file=f)\n",
      "        f.close()"
     ],
     "language": "python",
     "metadata": {},
     "outputs": [],
     "prompt_number": 1
    },
    {
     "cell_type": "code",
     "collapsed": false,
     "input": [
      "for i in range(40000,40010):\n",
      "    print(i)\n",
      "    save(i)"
     ],
     "language": "python",
     "metadata": {},
     "outputs": []
    }
   ],
   "metadata": {}
  }
 ]
}